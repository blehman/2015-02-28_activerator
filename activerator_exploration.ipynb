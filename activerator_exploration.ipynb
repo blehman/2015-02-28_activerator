{
 "cells": [
  {
   "cell_type": "markdown",
   "metadata": {},
   "source": [
    "### Virtual Environment\n",
    "To keep our versions the same across machines, we'll use anaconda's built-in virtual environment manager. Run the following from the commandline. \n",
    "<pre>\n",
    "$conda remove --name activerator_env --all\n",
    "$conda env create -f environment.yml\n",
    "$source activate activerator_env\n",
    "</pre>"
   ]
  },
  {
   "cell_type": "code",
   "execution_count": 2,
   "metadata": {
    "collapsed": false
   },
   "outputs": [],
   "source": [
    "from imports import *\n",
    "import json as pp"
   ]
  },
  {
   "cell_type": "markdown",
   "metadata": {},
   "source": [
    "### Configs\n",
    "First, [build a stava application](https://www.strava.com/settings/api). \n",
    "\n",
    "Next, enter the following values in a `config.cfg` file in this repo:\n",
    "<pre>\n",
    "[creds]\n",
    "client_id = enterID\n",
    "client_secret = enterSecret\n",
    "access_token = enterToken\n",
    "</pre>\n"
   ]
  },
  {
   "cell_type": "code",
   "execution_count": 5,
   "metadata": {
    "collapsed": false
   },
   "outputs": [
    {
     "name": "stdout",
     "output_type": "stream",
     "text": [
      "activerator-rds\n"
     ]
    }
   ],
   "source": [
    "config = ConfigParser.RawConfigParser()\n",
    "config.read('config.cfg')\n",
    "client_id = config.get('creds','client_id')\n",
    "client_secret = config.get('creds','client_secret')\n",
    "access_token = config.get('creds','access_token')\n",
    "header = {\n",
    "    'Authorization': 'Bearer {}'.format(access_token)\n",
    "}\n",
    "rds_db = config.get('rds','DB_instance')\n",
    "rds_usr = config.get('rds','user_name')\n",
    "rds_pswd = config.get('rds','pasword')\n",
    "print rds_db"
   ]
  },
  {
   "cell_type": "markdown",
   "metadata": {},
   "source": [
    "### Activerator\n",
    "We're going to learn how to use the strava v3 api. We'll first build a function that allows us to make GET requests and return a json result. "
   ]
  },
  {
   "cell_type": "code",
   "execution_count": null,
   "metadata": {
    "collapsed": false
   },
   "outputs": [],
   "source": [
    "def make_request(p,access_token,endpoint):\n",
    "    \"\"\"\n",
    "    Initiates a get request w/ specific parameters provided.\n",
    "    \"\"\"\n",
    "    return requests.get(\n",
    "            config.get('creds','url')+endpoint\n",
    "            , params=p\n",
    "            , headers = header\n",
    "        ).json()\n"
   ]
  },
  {
   "cell_type": "markdown",
   "metadata": {},
   "source": [
    "Next, let's get our own list of the bikes we loaded in strava using the [athelete endpoint](http://strava.github.io/api/v3/athlete/). "
   ]
  },
  {
   "cell_type": "code",
   "execution_count": null,
   "metadata": {
    "collapsed": false
   },
   "outputs": [],
   "source": [
    "endpoint = 'athlete'\n",
    "parameters = {\n",
    "    'per_page': 2 #up to 200\n",
    "}\n",
    "print pp.dumps(make_request(parameters, access_token, endpoint)['bikes'],indent=4)"
   ]
  },
  {
   "cell_type": "markdown",
   "metadata": {},
   "source": [
    "We can explore efforts on a specific segment over a specific date range using the [segments efforts endpoint](http://strava.github.io/api/v3/efforts/). "
   ]
  },
  {
   "cell_type": "code",
   "execution_count": null,
   "metadata": {
    "collapsed": false
   },
   "outputs": [],
   "source": [
    "!ls"
   ]
  },
  {
   "cell_type": "code",
   "execution_count": null,
   "metadata": {
    "collapsed": false
   },
   "outputs": [],
   "source": [
    "endpoint = 'segments/636162/all_efforts'\n",
    "parameters = {\n",
    "    'per_page': 2 #up to 200\n",
    "    , 'start_date_local': '2016-02-28T00:00:00Z'\n",
    "    , 'end_date_local':'2016-02-28T23:59:59Z'\n",
    "}\n",
    "#print pp.dumps(make_request(parameters, access_token, endpoint),indent=4)\n",
    "data = make_request(parameters, access_token, endpoint)\n",
    "with open('data/initial_segment636162_data.json','wb') as result:\n",
    "    result.write(json.dumps(data))\n"
   ]
  },
  {
   "cell_type": "code",
   "execution_count": null,
   "metadata": {
    "collapsed": false
   },
   "outputs": [],
   "source": [
    "!cat data/initial_segment636162_data.json"
   ]
  },
  {
   "cell_type": "markdown",
   "metadata": {},
   "source": [
    "The process of installing the MySQLdb library was strange. Documentation is below.\n",
    "\n",
    "* `$ pip install MySQL-python`\n",
    "\n",
    "I also had to do the following:\n",
    "* `pip install jupyter`. \n",
    "\n",
    "Then I received this error:\n",
    "<pre>\n",
    "ImportError: dlopen(/Users/blehman/anaconda/envs/activerator_env/lib/python2.7/site-packages/_mysql.so, 2): Library not loaded: libssl.1.0.0.dylib\n",
    "  Referenced from: /Users/blehman/anaconda/envs/activerator_env/lib/python2.7/site-packages/_mysql.so\n",
    "  Reason: image not found\n",
    "</pre>\n",
    "\n",
    "I found this [stackoverflow conversation](http://stackoverflow.com/questions/6383310/python-mysqldb-library-not-loaded-libmysqlclient-18-dylib) and followed [this particular solution](http://stackoverflow.com/questions/6383310/python-mysqldb-library-not-loaded-libmysqlclient-18-dylib?id=answer-6967816#answer-6967816). I had to first find where `libcrypto.1.0.0.dylib` was located and I did that by searching (with `command space`). Once I had the location (ie. `~/anaconda/lib/libcrypto.1.0.0.dylib`)  creates a symbolic link in /usr/lib to the appropriate file:\n",
    "<pre>\n",
    "$ sudo ln -s ~/anaconda/lib/libcrypto.1.0.0.dylib /usr/lib/libcrypto.1.0.0.dylib\n",
    "</pre>\n",
    "\n"
   ]
  },
  {
   "cell_type": "code",
   "execution_count": 8,
   "metadata": {
    "collapsed": false
   },
   "outputs": [
    {
     "ename": "OperationalError",
     "evalue": "(2002, \"Can't connect to local MySQL server through socket '/tmp/mysql.sock' (2)\")",
     "output_type": "error",
     "traceback": [
      "\u001b[0;31m---------------------------------------------------------------------------\u001b[0m",
      "\u001b[0;31mOperationalError\u001b[0m                          Traceback (most recent call last)",
      "\u001b[0;32m<ipython-input-8-9d2ac921b1a8>\u001b[0m in \u001b[0;36m<module>\u001b[0;34m()\u001b[0m\n\u001b[1;32m      5\u001b[0m     \u001b[0muser\u001b[0m\u001b[0;34m=\u001b[0m\u001b[0mrds_usr\u001b[0m\u001b[0;34m\u001b[0m\u001b[0m\n\u001b[1;32m      6\u001b[0m     \u001b[0;34m,\u001b[0m\u001b[0mpasswd\u001b[0m\u001b[0;34m=\u001b[0m\u001b[0mrds_pswd\u001b[0m\u001b[0;34m\u001b[0m\u001b[0m\n\u001b[0;32m----> 7\u001b[0;31m     \u001b[0;34m,\u001b[0m\u001b[0mdb\u001b[0m\u001b[0;34m=\u001b[0m\u001b[0mrds_db\u001b[0m\u001b[0;34m\u001b[0m\u001b[0m\n\u001b[0m\u001b[1;32m      8\u001b[0m     )\n\u001b[1;32m      9\u001b[0m \u001b[0;34m\u001b[0m\u001b[0m\n",
      "\u001b[0;32m/Users/blehman/anaconda/envs/activerator_env/lib/python2.7/site-packages/MySQLdb/__init__.pyc\u001b[0m in \u001b[0;36mConnect\u001b[0;34m(*args, **kwargs)\u001b[0m\n\u001b[1;32m     79\u001b[0m     \u001b[0;34m\"\"\"Factory function for connections.Connection.\"\"\"\u001b[0m\u001b[0;34m\u001b[0m\u001b[0m\n\u001b[1;32m     80\u001b[0m     \u001b[0;32mfrom\u001b[0m \u001b[0mMySQLdb\u001b[0m\u001b[0;34m.\u001b[0m\u001b[0mconnections\u001b[0m \u001b[0;32mimport\u001b[0m \u001b[0mConnection\u001b[0m\u001b[0;34m\u001b[0m\u001b[0m\n\u001b[0;32m---> 81\u001b[0;31m     \u001b[0;32mreturn\u001b[0m \u001b[0mConnection\u001b[0m\u001b[0;34m(\u001b[0m\u001b[0;34m*\u001b[0m\u001b[0margs\u001b[0m\u001b[0;34m,\u001b[0m \u001b[0;34m**\u001b[0m\u001b[0mkwargs\u001b[0m\u001b[0;34m)\u001b[0m\u001b[0;34m\u001b[0m\u001b[0m\n\u001b[0m\u001b[1;32m     82\u001b[0m \u001b[0;34m\u001b[0m\u001b[0m\n\u001b[1;32m     83\u001b[0m \u001b[0mconnect\u001b[0m \u001b[0;34m=\u001b[0m \u001b[0mConnection\u001b[0m \u001b[0;34m=\u001b[0m \u001b[0mConnect\u001b[0m\u001b[0;34m\u001b[0m\u001b[0m\n",
      "\u001b[0;32m/Users/blehman/anaconda/envs/activerator_env/lib/python2.7/site-packages/MySQLdb/connections.pyc\u001b[0m in \u001b[0;36m__init__\u001b[0;34m(self, *args, **kwargs)\u001b[0m\n\u001b[1;32m    191\u001b[0m         \u001b[0mautocommit\u001b[0m \u001b[0;34m=\u001b[0m \u001b[0mkwargs2\u001b[0m\u001b[0;34m.\u001b[0m\u001b[0mpop\u001b[0m\u001b[0;34m(\u001b[0m\u001b[0;34m'autocommit'\u001b[0m\u001b[0;34m,\u001b[0m \u001b[0mFalse\u001b[0m\u001b[0;34m)\u001b[0m\u001b[0;34m\u001b[0m\u001b[0m\n\u001b[1;32m    192\u001b[0m \u001b[0;34m\u001b[0m\u001b[0m\n\u001b[0;32m--> 193\u001b[0;31m         \u001b[0msuper\u001b[0m\u001b[0;34m(\u001b[0m\u001b[0mConnection\u001b[0m\u001b[0;34m,\u001b[0m \u001b[0mself\u001b[0m\u001b[0;34m)\u001b[0m\u001b[0;34m.\u001b[0m\u001b[0m__init__\u001b[0m\u001b[0;34m(\u001b[0m\u001b[0;34m*\u001b[0m\u001b[0margs\u001b[0m\u001b[0;34m,\u001b[0m \u001b[0;34m**\u001b[0m\u001b[0mkwargs2\u001b[0m\u001b[0;34m)\u001b[0m\u001b[0;34m\u001b[0m\u001b[0m\n\u001b[0m\u001b[1;32m    194\u001b[0m         \u001b[0mself\u001b[0m\u001b[0;34m.\u001b[0m\u001b[0mcursorclass\u001b[0m \u001b[0;34m=\u001b[0m \u001b[0mcursorclass\u001b[0m\u001b[0;34m\u001b[0m\u001b[0m\n\u001b[1;32m    195\u001b[0m         self.encoders = dict([ (k, v) for k, v in conv.items()\n",
      "\u001b[0;31mOperationalError\u001b[0m: (2002, \"Can't connect to local MySQL server through socket '/tmp/mysql.sock' (2)\")"
     ]
    }
   ],
   "source": [
    "import MySQLdb\n",
    "\n",
    "# establish a connection\n",
    "conn = MySQLdb.connect(\n",
    "    user=rds_usr\n",
    "    ,passwd=rds_pswd\n",
    "    ,db=rds_db\n",
    "    )\n",
    "\n",
    "##\n",
    "# Sarah - could you help with this code below?\n",
    "##\n",
    "# create table\n",
    "# insert data\n",
    "# query data "
   ]
  },
  {
   "cell_type": "code",
   "execution_count": null,
   "metadata": {
    "collapsed": true
   },
   "outputs": [],
   "source": []
  },
  {
   "cell_type": "markdown",
   "metadata": {},
   "source": [
    "### What's next? \n",
    "We hope to compile some data, save it on RDS, and build a D3 visualization that allows the client to explore results.  "
   ]
  },
  {
   "cell_type": "code",
   "execution_count": null,
   "metadata": {
    "collapsed": true
   },
   "outputs": [],
   "source": []
  }
 ],
 "metadata": {
  "kernelspec": {
   "display_name": "Python 2",
   "language": "python",
   "name": "python2"
  },
  "language_info": {
   "codemirror_mode": {
    "name": "ipython",
    "version": 2
   },
   "file_extension": ".py",
   "mimetype": "text/x-python",
   "name": "python",
   "nbconvert_exporter": "python",
   "pygments_lexer": "ipython2",
   "version": "2.7.11"
  }
 },
 "nbformat": 4,
 "nbformat_minor": 0
}
