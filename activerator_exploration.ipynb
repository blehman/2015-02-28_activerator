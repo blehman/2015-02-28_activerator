{
 "cells": [
  {
   "cell_type": "code",
   "execution_count": null,
   "metadata": {
    "collapsed": false
   },
   "outputs": [],
   "source": [
    "from imports import *\n",
    "import requests\n",
    "import ConfigParser\n",
    "import json as pp"
   ]
  },
  {
   "cell_type": "markdown",
   "metadata": {},
   "source": [
    "### Configs\n",
    "First, [build a stava application](https://www.strava.com/settings/api). \n",
    "\n",
    "Next, enter the following values in a `config.cfg` file in this repo:\n",
    "<pre>\n",
    "[creds]\n",
    "client_id = enterID\n",
    "client_secret = enterSecret\n",
    "access_token = enterToken\n",
    "</pre>\n"
   ]
  },
  {
   "cell_type": "code",
   "execution_count": null,
   "metadata": {
    "collapsed": false
   },
   "outputs": [],
   "source": [
    "config = ConfigParser.RawConfigParser()\n",
    "config.read('config.cfg')\n",
    "client_id = config.get('creds','client_id')\n",
    "client_secret = config.get('creds','client_secret')\n",
    "access_token = config.get('creds','access_token')\n",
    "header = {\n",
    "    'Authorization': 'Bearer {}'.format(access_token)\n",
    "}"
   ]
  },
  {
   "cell_type": "markdown",
   "metadata": {},
   "source": [
    "### Activerator\n",
    "We're going to learn how to use the strava v3 api. We'll first build a function that allows us to make GET requests and return a json result. "
   ]
  },
  {
   "cell_type": "code",
   "execution_count": null,
   "metadata": {
    "collapsed": false
   },
   "outputs": [],
   "source": [
    "def make_request(p,access_token,endpoint):\n",
    "    \"\"\"\n",
    "    Initiates a get request w/ specific parameters provided.\n",
    "    \"\"\"\n",
    "    return requests.get(\n",
    "            config.get('creds','url')+endpoint\n",
    "            , params=p\n",
    "            , headers = header\n",
    "        ).json()\n"
   ]
  },
  {
   "cell_type": "markdown",
   "metadata": {},
   "source": [
    "Next, let's get our own list of the bikes we loaded in strava using the [athelete endpoint](http://strava.github.io/api/v3/athlete/). "
   ]
  },
  {
   "cell_type": "code",
   "execution_count": null,
   "metadata": {
    "collapsed": false
   },
   "outputs": [],
   "source": [
    "endpoint = 'athlete'\n",
    "parameters = {\n",
    "    'per_page': 2 #up to 200\n",
    "}\n",
    "print pp.dumps(make_request(parameters, access_token, endpoint)['bikes'],indent=4)"
   ]
  },
  {
   "cell_type": "markdown",
   "metadata": {},
   "source": [
    "We can explore efforts on a specific segment over a specific date range using the [segments efforts endpoint](http://strava.github.io/api/v3/efforts/). "
   ]
  },
  {
   "cell_type": "code",
   "execution_count": null,
   "metadata": {
    "collapsed": false
   },
   "outputs": [],
   "source": [
    "endpoint = 'segments/636162/all_efforts'\n",
    "parameters = {\n",
    "    'per_page': 2 #up to 200\n",
    "    , 'start_date_local': '2016-02-28T00:00:00Z'\n",
    "    , 'end_date_local':'2016-02-28T23:59:59Z'\n",
    "}\n",
    "print pp.dumps(make_request(parameters, access_token, endpoint),indent=4)"
   ]
  },
  {
   "cell_type": "markdown",
   "metadata": {},
   "source": [
    "### What's next? \n",
    "We hope to compile some data, save it on RDS, and build a D3 visualization that allows the client to explore results.  "
   ]
  },
  {
   "cell_type": "code",
   "execution_count": null,
   "metadata": {
    "collapsed": true
   },
   "outputs": [],
   "source": []
  }
 ],
 "metadata": {
  "kernelspec": {
   "display_name": "Python 2",
   "language": "python",
   "name": "python2"
  },
  "language_info": {
   "codemirror_mode": {
    "name": "ipython",
    "version": 2
   },
   "file_extension": ".py",
   "mimetype": "text/x-python",
   "name": "python",
   "nbconvert_exporter": "python",
   "pygments_lexer": "ipython2",
   "version": "2.7.11"
  }
 },
 "nbformat": 4,
 "nbformat_minor": 0
}
